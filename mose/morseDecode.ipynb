{
 "cells": [
  {
   "cell_type": "code",
   "execution_count": 61,
   "metadata": {},
   "outputs": [],
   "source": [
    "\n",
    "# 모스 코드를 인풋값으로 받는 함수 해석한것을 아웃풋으로  띄어쓰기는 단어사이 공백을 3번\n",
    "#input : 'some mosecode' output : 'decode mose code'\n",
    "def decodeMorse(morse_code):\n",
    "    \n",
    "    result =\"\" #결과값\n",
    "    \n",
    "    MORSE_CODE = {\n",
    "\".-\" : \"A\",\n",
    "\"-...\": \"B\",\n",
    "\"-.-.\": \"C\",\n",
    "\"-..\": \"D\",\n",
    "\".\": \"E\",\n",
    "\"..-.\": \"F\", \"-----\": \"0\",\n",
    "\"--.\": \"G\", \".----\": \"1\",\n",
    "\"....\": \"H\", \"..---\": \"2\",\n",
    "\"..\": \"I\", \"...--\": \"3\",\n",
    "\".---\": \"J\", \"....-\": \"4\",\n",
    "\"-.-\": \"K\", \".....\": \"5\",\n",
    "\".-..\": \"L\", \"-....\": \"6\",\n",
    "\"--\": \"M\", \"--...\": \"7\",\n",
    "\"-.\": \"N\", \"---..\": \"8\",\n",
    "\"---\": \"O\", \"----.\": \"9\",\n",
    "\".--.\": \"P\", \".-.-.-\": \".\",\n",
    "\"--.-\": \"Q\", \"--..--\": \",\",\n",
    "\".-.\": \"R\", \"..--..\": \"?\",\n",
    "\"...\": \"S\", \"-....-\": \"-\",\n",
    "\"-\": \"T\", \".----.\": \"\",\n",
    "\"..-\": \"U\", \"---...\": \":\",\n",
    "\"...-\": \"V\", \".-..-.\": \"'\",\n",
    "\".--\": \"W\", \"-..-.\": \"/\",\n",
    "\"-..-\": \"X\", \".--.-.\": \"@\",\n",
    "\"-.--\": \"Y\", \"...---...\":\"SOS\",\n",
    "\"--..\": \"Z\",\"-.-.--\":\"!\",\n",
    "} #morse부호를 딕셔너리 형식으로 정리\n",
    "    \n",
    "    \n",
    "    word_list = morse_code.split('   ') #문자열을 띄어쓰기 기준으로 단어별로 구별해 리스트로 저장\n",
    "    \n",
    "    \n",
    "    # 저장된 딕셔너리를 통한 모스부호 해석 후 결과 값에 알파벳 추가\n",
    "    for i in word_list:\n",
    "        mores_list = i.split(' ')\n",
    "        for j in mores_list:\n",
    "            result += MORSE_CODE[j]\n",
    "        result += \" \"\n",
    "    return result[:-1] # 들어가있는 순서대로 정확한 출력을 위헤 뒤에서부터 출력"
   ]
  },
  {
   "cell_type": "code",
   "execution_count": 62,
   "metadata": {},
   "outputs": [
    {
     "data": {
      "text/plain": [
       "'HEY JAY'"
      ]
     },
     "execution_count": 62,
     "metadata": {},
     "output_type": "execute_result"
    }
   ],
   "source": [
    "decodeMorse('.... . -.--   .--- .- -.--')"
   ]
  },
  {
   "cell_type": "code",
   "execution_count": 63,
   "metadata": {},
   "outputs": [
    {
     "data": {
      "text/plain": [
       "'010 2408 20003'"
      ]
     },
     "execution_count": 63,
     "metadata": {},
     "output_type": "execute_result"
    }
   ],
   "source": [
    "decodeMorse('----- .---- -----   ..--- ....- ----- ---..   ..--- ----- ----- ----- ...--')"
   ]
  },
  {
   "cell_type": "code",
   "execution_count": 64,
   "metadata": {},
   "outputs": [
    {
     "data": {
      "text/plain": [
       "'TEST'"
      ]
     },
     "execution_count": 64,
     "metadata": {},
     "output_type": "execute_result"
    }
   ],
   "source": [
    "decodeMorse('- . ... -')"
   ]
  }
 ],
 "metadata": {
  "kernelspec": {
   "display_name": "Python 3",
   "language": "python",
   "name": "python3"
  },
  "language_info": {
   "codemirror_mode": {
    "name": "ipython",
    "version": 3
   },
   "file_extension": ".py",
   "mimetype": "text/x-python",
   "name": "python",
   "nbconvert_exporter": "python",
   "pygments_lexer": "ipython3",
   "version": "3.7.3"
  }
 },
 "nbformat": 4,
 "nbformat_minor": 2
}
