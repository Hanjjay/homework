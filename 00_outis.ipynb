{
 "cells": [
  {
   "cell_type": "code",
   "execution_count": 27,
   "metadata": {},
   "outputs": [],
   "source": [
    "def wordcheck():\n",
    "\n",
    "    ip = str(input())\n",
    "    ip = ip.upper()\n",
    "    op = \"?\"\n",
    "    max = 0\n",
    "    maxindex = 0\n",
    "\n",
    "    for i in range(len(ip)):\n",
    "        if(max > ip.count(ip[i])):\n",
    "            max = ip.count(ip[i])\n",
    "            maxindex = i\n",
    "\n",
    "    for i in range(len(ip)):\n",
    "        if(max == ip.count(ip[i]) and ip[maxindex]!= ip[i]):\n",
    "            return print(op)\n",
    "\n",
    "            \n",
    "    op = ip[maxindex]\n",
    "    return print(op)\n"
   ]
  },
  {
   "cell_type": "code",
   "execution_count": 28,
   "metadata": {},
   "outputs": [
    {
     "name": "stdout",
     "output_type": "stream",
     "text": [
      "M\n"
     ]
    }
   ],
   "source": [
    "wordcheck()"
   ]
  },
  {
   "cell_type": "code",
   "execution_count": null,
   "metadata": {},
   "outputs": [],
   "source": []
  }
 ],
 "metadata": {
  "kernelspec": {
   "display_name": "Python 3",
   "language": "python",
   "name": "python3"
  },
  "language_info": {
   "codemirror_mode": {
    "name": "ipython",
    "version": 3
   },
   "file_extension": ".py",
   "mimetype": "text/x-python",
   "name": "python",
   "nbconvert_exporter": "python",
   "pygments_lexer": "ipython3",
   "version": "3.11.1"
  },
  "orig_nbformat": 4,
  "vscode": {
   "interpreter": {
    "hash": "4b6235b593cbfc2f3ce04886080ca4ae422e4cc870f7c79193b656fc1a793a44"
   }
  }
 },
 "nbformat": 4,
 "nbformat_minor": 2
}
