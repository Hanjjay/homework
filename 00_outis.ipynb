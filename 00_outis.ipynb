{
 "cells": [
  {
   "cell_type": "code",
   "execution_count": 27,
   "metadata": {},
   "outputs": [
    {
     "name": "stdout",
     "output_type": "stream",
     "text": [
      "40.000%\n"
     ]
    }
   ],
   "source": [
    "case = int(input())\n",
    "for i in range(case):\n",
    "    ip = list(map(int, input().split()))\n",
    "    count = 0\n",
    "    sum = 0\n",
    "\n",
    "    for i in range(1, len(ip)):\n",
    "        sum += ip[i]\n",
    "\n",
    "    average = sum / (len(ip)-1)\n",
    "\n",
    "    for i in range(1, len(ip)):\n",
    "        if (ip[i] > average):\n",
    "            count += 1\n",
    "    op = (count/(len(ip)-1)) *100\n",
    "    print(\"%0.3f\"%op + \"%\")"
   ]
  },
  {
   "cell_type": "code",
   "execution_count": 13,
   "metadata": {},
   "outputs": [
    {
     "data": {
      "text/plain": [
       "75.0"
      ]
     },
     "execution_count": 13,
     "metadata": {},
     "output_type": "execute_result"
    }
   ],
   "source": [
    "ip = [50 ,50 ,70, 80, 100]\n",
    "sum = 0\n",
    "for i in range(1, len(ip)):\n",
    "        sum += ip[i]\n",
    "\n",
    "sum = sum / (len(ip)-1)\n",
    "sum"
   ]
  },
  {
   "cell_type": "code",
   "execution_count": null,
   "metadata": {},
   "outputs": [],
   "source": []
  },
  {
   "cell_type": "code",
   "execution_count": null,
   "metadata": {},
   "outputs": [],
   "source": []
  }
 ],
 "metadata": {
  "kernelspec": {
   "display_name": "Python 3",
   "language": "python",
   "name": "python3"
  },
  "language_info": {
   "codemirror_mode": {
    "name": "ipython",
    "version": 3
   },
   "file_extension": ".py",
   "mimetype": "text/x-python",
   "name": "python",
   "nbconvert_exporter": "python",
   "pygments_lexer": "ipython3",
   "version": "3.11.1"
  },
  "orig_nbformat": 4,
  "vscode": {
   "interpreter": {
    "hash": "4b6235b593cbfc2f3ce04886080ca4ae422e4cc870f7c79193b656fc1a793a44"
   }
  }
 },
 "nbformat": 4,
 "nbformat_minor": 2
}
