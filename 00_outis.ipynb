{
 "cells": [
  {
   "cell_type": "code",
   "execution_count": 11,
   "metadata": {},
   "outputs": [
    {
     "ename": "AttributeError",
     "evalue": "'function' object has no attribute 'split'",
     "output_type": "error",
     "traceback": [
      "\u001b[1;31m---------------------------------------------------------------------------\u001b[0m",
      "\u001b[1;31mAttributeError\u001b[0m                            Traceback (most recent call last)",
      "Cell \u001b[1;32mIn[11], line 1\u001b[0m\n\u001b[1;32m----> 1\u001b[0m ip \u001b[39m=\u001b[39m \u001b[39mlist\u001b[39m(\u001b[39mmap\u001b[39m(\u001b[39mint\u001b[39m, (\u001b[39minput\u001b[39m(), \u001b[39minput\u001b[39;49m\u001b[39m.\u001b[39;49msplit(\u001b[39m'\u001b[39m\u001b[39m \u001b[39m\u001b[39m'\u001b[39m))))  \u001b[39m# 세줄 리스트로 입력받기\u001b[39;00m\n\u001b[0;32m      4\u001b[0m \u001b[39mdef\u001b[39;00m \u001b[39mdice\u001b[39m(ip):\n\u001b[0;32m      5\u001b[0m     top_ip \u001b[39m=\u001b[39m \u001b[39m0\u001b[39m\n",
      "\u001b[1;31mAttributeError\u001b[0m: 'function' object has no attribute 'split'"
     ]
    }
   ],
   "source": [
    "ip = list(map(int, input().split())) # 세줄 리스트로 입력받기\n",
    "\n",
    "\n",
    "def dice(ip):\n",
    "    top_ip = 0\n",
    "    # 가장큰 값\n",
    "    for i in ip:\n",
    "        if top_ip < i:\n",
    "            top_ip = i\n",
    "\n",
    "    for i in range(len(ip)):\n",
    "        cnt = ip.count(ip[i])\n",
    "        if cnt == 3:\n",
    "            return print(10000 + (ip[1] * 1000))\n",
    "        elif cnt == 2:\n",
    "            return print(1000 + (ip[i] * 100))\n",
    "\n",
    "    return print(top_ip * 100)\n",
    "\n",
    "\n",
    "dice(ip)\n"
   ]
  },
  {
   "cell_type": "code",
   "execution_count": 9,
   "metadata": {},
   "outputs": [
    {
     "name": "stdout",
     "output_type": "stream",
     "text": [
      "600\n"
     ]
    }
   ],
   "source": [
    "ip = [6,2,5]\n",
    "dice(ip)"
   ]
  },
  {
   "cell_type": "code",
   "execution_count": null,
   "metadata": {},
   "outputs": [],
   "source": []
  }
 ],
 "metadata": {
  "kernelspec": {
   "display_name": "Python 3",
   "language": "python",
   "name": "python3"
  },
  "language_info": {
   "codemirror_mode": {
    "name": "ipython",
    "version": 3
   },
   "file_extension": ".py",
   "mimetype": "text/x-python",
   "name": "python",
   "nbconvert_exporter": "python",
   "pygments_lexer": "ipython3",
   "version": "3.11.1"
  },
  "orig_nbformat": 4,
  "vscode": {
   "interpreter": {
    "hash": "4b6235b593cbfc2f3ce04886080ca4ae422e4cc870f7c79193b656fc1a793a44"
   }
  }
 },
 "nbformat": 4,
 "nbformat_minor": 2
}
