{
 "cells": [
  {
   "cell_type": "code",
   "execution_count": 129,
   "metadata": {},
   "outputs": [
    {
     "name": "stdout",
     "output_type": "stream",
     "text": [
      "3\n"
     ]
    }
   ],
   "source": [
    "case = int(input())\n",
    "\n",
    "for i in range(case):\n",
    "\n",
    "    ip = list(input())\n",
    "\n",
    "    for j in range(len(ip)-1):\n",
    "        if ip[j] == ip[j+1]: \n",
    "            pass\n",
    "\n",
    "        elif ip[j] in ip[j+2:]:\n",
    "            ip -= 1\n",
    "            break\n",
    "print(case)\n"
   ]
  },
  {
   "cell_type": "code",
   "execution_count": 128,
   "metadata": {},
   "outputs": [
    {
     "name": "stdout",
     "output_type": "stream",
     "text": [
      "3\n"
     ]
    }
   ],
   "source": [
    "case = int(input())\n",
    "\n",
    "for i in range(case):\n",
    "\n",
    "    ip = list(input())\n",
    "\n",
    "    for j in range(len(ip)-1):\n",
    "\n",
    "        if (ip[j] == ip[j+1]): \n",
    "            pass\n",
    "        elif (ip[j] in ip[j+2:]):\n",
    "            case-=1\n",
    "            break\n",
    "        \n",
    "print(case)"
   ]
  },
  {
   "cell_type": "code",
   "execution_count": null,
   "metadata": {},
   "outputs": [],
   "source": []
  }
 ],
 "metadata": {
  "kernelspec": {
   "display_name": "Python 3",
   "language": "python",
   "name": "python3"
  },
  "language_info": {
   "codemirror_mode": {
    "name": "ipython",
    "version": 3
   },
   "file_extension": ".py",
   "mimetype": "text/x-python",
   "name": "python",
   "nbconvert_exporter": "python",
   "pygments_lexer": "ipython3",
   "version": "3.11.1"
  },
  "orig_nbformat": 4,
  "vscode": {
   "interpreter": {
    "hash": "4b6235b593cbfc2f3ce04886080ca4ae422e4cc870f7c79193b656fc1a793a44"
   }
  }
 },
 "nbformat": 4,
 "nbformat_minor": 2
}
