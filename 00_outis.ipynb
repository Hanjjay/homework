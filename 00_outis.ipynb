{
 "cells": [
  {
   "cell_type": "code",
   "execution_count": 2,
   "metadata": {},
   "outputs": [
    {
     "ename": "TypeError",
     "evalue": "argument of type 'int' is not iterable",
     "output_type": "error",
     "traceback": [
      "\u001b[1;31m---------------------------------------------------------------------------\u001b[0m",
      "\u001b[1;31mTypeError\u001b[0m                                 Traceback (most recent call last)",
      "Cell \u001b[1;32mIn[2], line 13\u001b[0m\n\u001b[0;32m     11\u001b[0m num \u001b[39m=\u001b[39m selfnumber(i)\n\u001b[0;32m     12\u001b[0m op\u001b[39m.\u001b[39mappend(num)\n\u001b[1;32m---> 13\u001b[0m \u001b[39mif\u001b[39;00m \u001b[39mnot\u001b[39;00m op \u001b[39min\u001b[39;49;00m num:\n\u001b[0;32m     14\u001b[0m     \u001b[39mprint\u001b[39m(i)\n",
      "\u001b[1;31mTypeError\u001b[0m: argument of type 'int' is not iterable"
     ]
    }
   ],
   "source": [
    "def selfnumber(n):\n",
    "    ip = n\n",
    "    while n != 0:\n",
    "        ip = ip + n % 10\n",
    "        n = n // 10\n",
    "    return ip\n",
    "\n",
    "\n",
    "op = []\n",
    "for i in range(1, 10000):\n",
    "    num = selfnumber(i)\n",
    "    op.append(num)\n",
    "    if not i in op:\n",
    "        print(i)\n"
   ]
  },
  {
   "cell_type": "code",
   "execution_count": null,
   "metadata": {},
   "outputs": [],
   "source": []
  }
 ],
 "metadata": {
  "kernelspec": {
   "display_name": "Python 3",
   "language": "python",
   "name": "python3"
  },
  "language_info": {
   "codemirror_mode": {
    "name": "ipython",
    "version": 3
   },
   "file_extension": ".py",
   "mimetype": "text/x-python",
   "name": "python",
   "nbconvert_exporter": "python",
   "pygments_lexer": "ipython3",
   "version": "3.11.1"
  },
  "orig_nbformat": 4,
  "vscode": {
   "interpreter": {
    "hash": "4b6235b593cbfc2f3ce04886080ca4ae422e4cc870f7c79193b656fc1a793a44"
   }
  }
 },
 "nbformat": 4,
 "nbformat_minor": 2
}
