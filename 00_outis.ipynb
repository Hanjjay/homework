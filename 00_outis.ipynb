{
 "cells": [
  {
   "cell_type": "code",
   "execution_count": 129,
   "metadata": {},
   "outputs": [
    {
     "name": "stdout",
     "output_type": "stream",
     "text": [
      "3\n"
     ]
    }
   ],
   "source": [
    "sum=0\n",
    "orda=0\n",
    "ordb=0\n",
    "\n",
    "for i in range(1,n+1):\n",
    "    sum+=i\n",
    "    if sum>=n:\n",
    "        orda=i\n",
    "        ordb=n-(sum-i)\n",
    "        break\n"
   ]
  },
  {
   "cell_type": "code",
   "execution_count": 128,
   "metadata": {},
   "outputs": [
    {
     "name": "stdout",
     "output_type": "stream",
     "text": [
      "3\n"
     ]
    }
   ],
   "source": [
    "a=0\n",
    "b=0\n",
    "if orda%2!=0:\n",
    "    a=orda+1\n",
    "    b=0\n",
    "    \n",
    "    for j in range(ordb):\n",
    "        a-=1\n",
    "        b+=1\n",
    "\n",
    "elif orda%2==0:\n",
    "    a=0\n",
    "    b=orda+1\n",
    "\n",
    "    for j in range(ordb):\n",
    "        b-=1\n",
    "        a+=1\n",
    "           "
   ]
  },
  {
   "cell_type": "code",
   "execution_count": null,
   "metadata": {},
   "outputs": [],
   "source": []
  }
 ],
 "metadata": {
  "kernelspec": {
   "display_name": "Python 3",
   "language": "python",
   "name": "python3"
  },
  "language_info": {
   "codemirror_mode": {
    "name": "ipython",
    "version": 3
   },
   "file_extension": ".py",
   "mimetype": "text/x-python",
   "name": "python",
   "nbconvert_exporter": "python",
   "pygments_lexer": "ipython3",
   "version": "3.11.1 (tags/v3.11.1:a7a450f, Dec  6 2022, 19:58:39) [MSC v.1934 64 bit (AMD64)]"
  },
  "orig_nbformat": 4,
  "vscode": {
   "interpreter": {
    "hash": "4b6235b593cbfc2f3ce04886080ca4ae422e4cc870f7c79193b656fc1a793a44"
   }
  }
 },
 "nbformat": 4,
 "nbformat_minor": 2
}
